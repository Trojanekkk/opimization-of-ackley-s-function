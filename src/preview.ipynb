{
 "metadata": {
  "language_info": {
   "codemirror_mode": {
    "name": "ipython",
    "version": 3
   },
   "file_extension": ".py",
   "mimetype": "text/x-python",
   "name": "python",
   "nbconvert_exporter": "python",
   "pygments_lexer": "ipython3",
   "version": "3.6.5-final"
  },
  "orig_nbformat": 2,
  "kernelspec": {
   "name": "python3",
   "display_name": "Python 3.6.5 32-bit ('venv': venv)",
   "metadata": {
    "interpreter": {
     "hash": "307d94916b7ff03c6068123b62af03898dd291740a96dfb7ca232c3d1279dd43"
    }
   }
  }
 },
 "nbformat": 4,
 "nbformat_minor": 2,
 "cells": [
  {
   "cell_type": "code",
   "execution_count": null,
   "metadata": {},
   "outputs": [],
   "source": [
    "# Import packages\n",
    "import numpy as np\n",
    "from matplotlib import pyplot as plt\n",
    "from mpl_toolkits.mplot3d import Axes3D\n",
    "\n",
    "# Calculate ackley \n",
    "def ackley(range_array):\n",
    "    res = np.empty([len(range_array[0])])\n",
    "    \n",
    "    for i in range(len(range_array[0])):\n",
    "        factor_1 = -0.02 * np.sqrt(0.5 * (range_array[0][i] * range_array[0][i] + range_array[1][i] * range_array[1][i]))\n",
    "        factor_2 = 0.5 * (np.cos(2 * np.pi * range_array[0][i]) + np.cos(2 * np.pi * range_array[1][i]))\n",
    "        \n",
    "        res[i] = -20 * np.exp(factor_1) - np.exp(factor_2) + np.exp(1) + 20\n",
    "\n",
    "    return res\n",
    "\n",
    "# Plot results\n",
    "def plot_ackley(x1_range,x2_range):\n",
    "    range_array = [x1_range,x2_range]\n",
    "    z_range = ackley(range_array)\n",
    "    fig = plt.figure()\n",
    "    ax = Axes3D(fig)\n",
    "    ax.scatter(x1_range, x2_range, z_range, label='Ackley Function')\n",
    "\n",
    "# Prepare range\n",
    "x1_range = []\n",
    "x2_range = []\n",
    "\n",
    "for x in np.linspace(-35, 35, 71):\n",
    "    for y in np.linspace(-35, 35, 71):\n",
    "        x1_range.append(x)\n",
    "        x2_range.append(y)\n",
    "    \n",
    "plot_ackley(x1_range ,x2_range)"
   ]
  },
  {
   "cell_type": "code",
   "execution_count": null,
   "metadata": {},
   "outputs": [],
   "source": []
  }
 ]
}